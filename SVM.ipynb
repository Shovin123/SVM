{
  "cells": [
    {
      "cell_type": "code",
      "execution_count": null,
      "metadata": {
        "id": "a30575d1"
      },
      "outputs": [],
      "source": [
        "import numpy as np\n",
        "import pandas as pd\n",
        "import matplotlib.pyplot as plt\n",
        "import seaborn as sns\n",
        "from sklearn.metrics import confusion_matrix"
      ],
      "id": "a30575d1"
    },
    {
      "cell_type": "code",
      "execution_count": null,
      "metadata": {
        "id": "68974daa"
      },
      "outputs": [],
      "source": [
        "df=pd.read_csv('/content/drive/MyDrive/Applied DS (1)/Labsheet8/train (1).csv')\n",
        "df.head()"
      ],
      "id": "68974daa"
    },
    {
      "cell_type": "code",
      "source": [
        "from google.colab import drive\n",
        "drive.mount('/content/drive')"
      ],
      "metadata": {
        "id": "qlbySWV3YOeH"
      },
      "id": "qlbySWV3YOeH",
      "execution_count": null,
      "outputs": []
    },
    {
      "cell_type": "code",
      "execution_count": null,
      "metadata": {
        "id": "ee3719be"
      },
      "outputs": [],
      "source": [
        "print('Columns List',df.columns)\n",
        "print(\"Rows and Columns count\",df.shape)"
      ],
      "id": "ee3719be"
    },
    {
      "cell_type": "code",
      "execution_count": null,
      "metadata": {
        "id": "d47f4f46"
      },
      "outputs": [],
      "source": [
        "#price range correlation\n",
        "corr=df.corr()\n",
        "corr.sort_values(by=[\"price_range\"],ascending=False).iloc[0].sort_values(ascending=False)"
      ],
      "id": "d47f4f46"
    },
    {
      "cell_type": "code",
      "execution_count": null,
      "metadata": {
        "id": "bfdb48b0"
      },
      "outputs": [],
      "source": [
        "df['price_range'].value_counts()"
      ],
      "id": "bfdb48b0"
    },
    {
      "cell_type": "code",
      "execution_count": null,
      "metadata": {
        "id": "250959a2"
      },
      "outputs": [],
      "source": [
        "y = df[\"price_range\"].values\n",
        "x=df.drop([\"price_range\"],axis=1)\n",
        "from sklearn.model_selection import train_test_split\n",
        "x_train, x_test, y_train, y_test = train_test_split(x,y,test_size = 0.2,\n",
        "                                                    random_state=45)"
      ],
      "id": "250959a2"
    },
    {
      "cell_type": "code",
      "execution_count": null,
      "metadata": {
        "id": "30e74b1a"
      },
      "outputs": [],
      "source": [
        "!pip install yellowbrick"
      ],
      "id": "30e74b1a"
    },
    {
      "cell_type": "code",
      "execution_count": null,
      "metadata": {
        "id": "76c14d9b"
      },
      "outputs": [],
      "source": [
        "from yellowbrick.target import ClassBalance\n",
        "visualizer = ClassBalance(labels=[0, 1, 2,3])\n",
        "visualizer.fit(y_train, y_test)\n",
        "visualizer.poof()"
      ],
      "id": "76c14d9b"
    },
    {
      "cell_type": "code",
      "execution_count": null,
      "metadata": {
        "id": "7f6ef1c4"
      },
      "outputs": [],
      "source": [
        "#First Model\n",
        "from sklearn.svm import SVC\n",
        "svm1=SVC(random_state=45)\n",
        "svm1.fit(x_train,y_train)\n",
        "y_pred=svm1.predict(x_test)\n",
        "print(\"train accuracy:\",svm1.score(x_train,y_train))\n",
        "print(\"test accuracy:\",svm1.score(x_test,y_test))\n",
        "from sklearn.metrics import accuracy_score\n",
        "acc1=accuracy_score(y_test, y_pred)\n",
        "print('Model accuracy score with default hyperparameters: {0:0.4f}'. format(acc1))"
      ],
      "id": "7f6ef1c4"
    },
    {
      "cell_type": "code",
      "source": [
        "cm = confusion_matrix(y_test, y_pred)\n",
        "sns.heatmap(cm, annot=True)\n",
        "plt.show()"
      ],
      "metadata": {
        "id": "Gtzs6F20o98X"
      },
      "id": "Gtzs6F20o98X",
      "execution_count": null,
      "outputs": []
    },
    {
      "cell_type": "code",
      "execution_count": null,
      "metadata": {
        "id": "1838601b"
      },
      "outputs": [],
      "source": [
        "#Feature Selection\n",
        "from sklearn.feature_selection import SelectKBest\n",
        "from sklearn.feature_selection import f_classif\n",
        "accuracy_list_train = []\n",
        "k=np.arange(1,21,1)\n",
        "for each in k:\n",
        "    x_new = SelectKBest(f_classif, k=each).fit_transform(x_train, y_train)\n",
        "    svm1.fit(x_new,y_train)\n",
        "    accuracy_list_train.append(svm1.score(x_new,y_train))\n",
        "\n",
        "plt.plot(k,accuracy_list_train,color=\"green\",label=\"train\")\n",
        "plt.xlabel(\"k values\")\n",
        "plt.ylabel(\"train accuracy\")\n",
        "plt.legend()\n",
        "plt.show()"
      ],
      "id": "1838601b"
    },
    {
      "cell_type": "code",
      "execution_count": null,
      "metadata": {
        "id": "6a5042ce"
      },
      "outputs": [],
      "source": [
        "#In the graph above, we can see 4 or 5 features gives higher train accuracies.\n",
        "d = {'best features number': k, 'train_score': accuracy_list_train}\n",
        "df = pd.DataFrame(data=d)\n",
        "print(\"max accuracy:\",df[\"train_score\"].max())\n",
        "print(\"max accuracy id:\",df[\"train_score\"].idxmax())"
      ],
      "id": "6a5042ce"
    },
    {
      "cell_type": "code",
      "execution_count": null,
      "metadata": {
        "id": "e3da725d"
      },
      "outputs": [],
      "source": [
        "print(\" max accuracy values: \\n\", df.iloc[5])"
      ],
      "id": "e3da725d"
    },
    {
      "cell_type": "code",
      "execution_count": null,
      "metadata": {
        "id": "affad137"
      },
      "outputs": [],
      "source": [
        "#Use 6 features because it has the highest accuracy.\n",
        "selector = SelectKBest(f_classif, k = 6)\n",
        "x_new = selector.fit_transform(x_train, y_train)\n",
        "x_new_test=selector.fit_transform(x_test,y_test)\n",
        "names_train = x_train.columns.values[selector.get_support()]\n",
        "names_test = x_test.columns.values[selector.get_support()]\n",
        "print(\"x train features:\",names_train)\n",
        "print(\"x test features:\",names_test)"
      ],
      "id": "affad137"
    },
    {
      "cell_type": "code",
      "execution_count": null,
      "metadata": {
        "id": "ba05f5d9"
      },
      "outputs": [],
      "source": [
        "# instantiate classifier with default hyperparameters\n",
        "from sklearn.metrics import accuracy_score\n",
        "svc=SVC()\n",
        "# fit classifier to training set\n",
        "svc.fit(x_new,y_train)\n",
        "# make predictions on test set\n",
        "y_pred=svc.predict(x_new_test)\n",
        "# compute and print accuracy score\n",
        "acc2=accuracy_score(y_test, y_pred)\n",
        "print('Model accuracy score with default hyperparameters: {0:0.4f}'. format(acc2))"
      ],
      "id": "ba05f5d9"
    },
    {
      "cell_type": "code",
      "source": [
        "cm = confusion_matrix(y_test, y_pred)\n",
        "sns.heatmap(cm, annot=True)\n",
        "plt.show()"
      ],
      "metadata": {
        "id": "ZbMLiAiZriwo"
      },
      "id": "ZbMLiAiZriwo",
      "execution_count": null,
      "outputs": []
    },
    {
      "cell_type": "code",
      "source": [
        "# instantiate classifier with default hyperparameters\n",
        "from sklearn.metrics import accuracy_score\n",
        "rbfsvm=SVC(kernel=\"rbf\",C=2)\n",
        "# fit classifier to training set\n",
        "rbfsvm.fit(x_train,y_train)\n",
        "# make predictions on test set\n",
        "y_pred=rbfsvm.predict(x_test)\n",
        "# compute and print accuracy score\n",
        "acc3=accuracy_score(y_test, y_pred)\n",
        "print('Model accuracy score with C=100 and kernel =rbf hyperparameters: {0:0.4f}'. format(acc3))"
      ],
      "metadata": {
        "id": "GS5D9l5Fekqo"
      },
      "id": "GS5D9l5Fekqo",
      "execution_count": null,
      "outputs": []
    },
    {
      "cell_type": "code",
      "source": [
        "cm = confusion_matrix(y_test, y_pred)\n",
        "sns.heatmap(cm, annot=True)\n",
        "plt.show()"
      ],
      "metadata": {
        "id": "0rgGt_1krkvi"
      },
      "id": "0rgGt_1krkvi",
      "execution_count": null,
      "outputs": []
    },
    {
      "cell_type": "code",
      "source": [],
      "metadata": {
        "id": "7qN4wlgauJRx"
      },
      "id": "7qN4wlgauJRx",
      "execution_count": null,
      "outputs": []
    },
    {
      "cell_type": "code",
      "source": [
        "# instantiate classifier with default hyperparameters\n",
        "from sklearn.metrics import accuracy_score\n",
        "polysvc=SVC(kernel=\"poly\",C=100)\n",
        "# fit classifier to training set\n",
        "polysvc.fit(x_train,y_train)\n",
        "# make predictions on test set\n",
        "y_pred=polysvc.predict(x_test)\n",
        "# compute and print accuracy score\n",
        "acc4=accuracy_score(y_test, y_pred)\n",
        "print('Model accuracy score with kernel=\"poly\",C=100 hyperparameters: {0:0.4f}'. format(acc4))"
      ],
      "metadata": {
        "id": "qCAzGWFsezNn"
      },
      "id": "qCAzGWFsezNn",
      "execution_count": null,
      "outputs": []
    },
    {
      "cell_type": "code",
      "source": [
        "cm = confusion_matrix(y_test, y_pred)\n",
        "sns.heatmap(cm, annot=True)\n",
        "plt.show()"
      ],
      "metadata": {
        "id": "71XA8_w7_E6O"
      },
      "id": "71XA8_w7_E6O",
      "execution_count": null,
      "outputs": []
    },
    {
      "cell_type": "code",
      "source": [
        "!pip install texttable"
      ],
      "metadata": {
        "id": "F-QdRjvUuAxD"
      },
      "id": "F-QdRjvUuAxD",
      "execution_count": null,
      "outputs": []
    },
    {
      "cell_type": "code",
      "source": [
        "from texttable import Texttable\n",
        "t = Texttable()\n",
        "t.add_rows([['Model', 'Accuracy'], ['SVM',acc1],['SVM(selected features)',acc2],['RBF SVM',acc3],\n",
        "           ['SVM',acc4]])\n",
        "print(t.draw())"
      ],
      "metadata": {
        "id": "Qcj2hr-UuN3p"
      },
      "id": "Qcj2hr-UuN3p",
      "execution_count": null,
      "outputs": []
    }
  ],
  "metadata": {
    "accelerator": "GPU",
    "colab": {
      "provenance": []
    },
    "kernelspec": {
      "display_name": "Python 3",
      "name": "python3"
    },
    "language_info": {
      "codemirror_mode": {
        "name": "ipython",
        "version": 3
      },
      "file_extension": ".py",
      "mimetype": "text/x-python",
      "name": "python",
      "nbconvert_exporter": "python",
      "pygments_lexer": "ipython3",
      "version": "3.9.13"
    }
  },
  "nbformat": 4,
  "nbformat_minor": 5
}